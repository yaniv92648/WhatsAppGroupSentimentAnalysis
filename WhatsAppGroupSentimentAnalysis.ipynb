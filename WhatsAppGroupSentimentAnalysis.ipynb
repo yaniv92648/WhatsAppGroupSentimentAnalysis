{
  "nbformat": 4,
  "nbformat_minor": 0,
  "metadata": {
    "colab": {
      "name": "WhatsAppGroupSentimentAnalysisCopy.ipynb",
      "provenance": [],
      "collapsed_sections": []
    },
    "kernelspec": {
      "name": "python3",
      "display_name": "Python 3"
    }
  },
  "cells": [
    {
      "cell_type": "code",
      "metadata": {
        "id": "GDSFGXQK9oVA",
        "colab": {
          "base_uri": "https://localhost:8080/"
        },
        "outputId": "57e74829-a29c-4297-909f-ae0d1d81b3c9"
      },
      "source": [
        "!pip install transformers"
      ],
      "execution_count": 15,
      "outputs": [
        {
          "output_type": "stream",
          "text": [
            "Requirement already satisfied: transformers in /usr/local/lib/python3.7/dist-packages (4.6.1)\n",
            "Requirement already satisfied: tqdm>=4.27 in /usr/local/lib/python3.7/dist-packages (from transformers) (4.41.1)\n",
            "Requirement already satisfied: numpy>=1.17 in /usr/local/lib/python3.7/dist-packages (from transformers) (1.19.5)\n",
            "Requirement already satisfied: tokenizers<0.11,>=0.10.1 in /usr/local/lib/python3.7/dist-packages (from transformers) (0.10.3)\n",
            "Requirement already satisfied: packaging in /usr/local/lib/python3.7/dist-packages (from transformers) (20.9)\n",
            "Requirement already satisfied: requests in /usr/local/lib/python3.7/dist-packages (from transformers) (2.23.0)\n",
            "Requirement already satisfied: regex!=2019.12.17 in /usr/local/lib/python3.7/dist-packages (from transformers) (2019.12.20)\n",
            "Requirement already satisfied: filelock in /usr/local/lib/python3.7/dist-packages (from transformers) (3.0.12)\n",
            "Requirement already satisfied: sacremoses in /usr/local/lib/python3.7/dist-packages (from transformers) (0.0.45)\n",
            "Requirement already satisfied: huggingface-hub==0.0.8 in /usr/local/lib/python3.7/dist-packages (from transformers) (0.0.8)\n",
            "Requirement already satisfied: importlib-metadata; python_version < \"3.8\" in /usr/local/lib/python3.7/dist-packages (from transformers) (4.0.1)\n",
            "Requirement already satisfied: pyparsing>=2.0.2 in /usr/local/lib/python3.7/dist-packages (from packaging->transformers) (2.4.7)\n",
            "Requirement already satisfied: certifi>=2017.4.17 in /usr/local/lib/python3.7/dist-packages (from requests->transformers) (2020.12.5)\n",
            "Requirement already satisfied: chardet<4,>=3.0.2 in /usr/local/lib/python3.7/dist-packages (from requests->transformers) (3.0.4)\n",
            "Requirement already satisfied: idna<3,>=2.5 in /usr/local/lib/python3.7/dist-packages (from requests->transformers) (2.10)\n",
            "Requirement already satisfied: urllib3!=1.25.0,!=1.25.1,<1.26,>=1.21.1 in /usr/local/lib/python3.7/dist-packages (from requests->transformers) (1.24.3)\n",
            "Requirement already satisfied: click in /usr/local/lib/python3.7/dist-packages (from sacremoses->transformers) (7.1.2)\n",
            "Requirement already satisfied: six in /usr/local/lib/python3.7/dist-packages (from sacremoses->transformers) (1.15.0)\n",
            "Requirement already satisfied: joblib in /usr/local/lib/python3.7/dist-packages (from sacremoses->transformers) (1.0.1)\n",
            "Requirement already satisfied: typing-extensions>=3.6.4; python_version < \"3.8\" in /usr/local/lib/python3.7/dist-packages (from importlib-metadata; python_version < \"3.8\"->transformers) (3.7.4.3)\n",
            "Requirement already satisfied: zipp>=0.5 in /usr/local/lib/python3.7/dist-packages (from importlib-metadata; python_version < \"3.8\"->transformers) (3.4.1)\n"
          ],
          "name": "stdout"
        }
      ]
    },
    {
      "cell_type": "code",
      "metadata": {
        "id": "nh_rC8jrsFmo"
      },
      "source": [
        "import pandas as pd\n",
        "import numpy as np\n",
        "from transformers import AutoTokenizer, AutoModel, pipeline\n",
        "from collections import defaultdict"
      ],
      "execution_count": 16,
      "outputs": []
    },
    {
      "cell_type": "code",
      "metadata": {
        "id": "yMUZNobR-1_b"
      },
      "source": [
        "with open('childhood_friends_chat.txt', encoding=\"utf-8\") as file:\n",
        "  total_chat = file.readlines()"
      ],
      "execution_count": 17,
      "outputs": []
    },
    {
      "cell_type": "code",
      "metadata": {
        "id": "M-D5q04nG4-p",
        "colab": {
          "base_uri": "https://localhost:8080/",
          "height": 77
        },
        "outputId": "b83f6904-707d-427c-d9f2-07e1b45fc207"
      },
      "source": [
        "people = defaultdict(list)\n",
        "for l in total_chat:\n",
        "  sen = l.rstrip(\"\\n\")\n",
        "  if ']' in sen:\n",
        "    name_and_msg = sen.split(']')[1]\n",
        "    if ':' in name_and_msg:\n",
        "      name_and_msg = name_and_msg.strip()\n",
        "      name = name_and_msg.split(':')[0].replace(' ', '_')\n",
        "      msg = name_and_msg.split(':')[1]\n",
        "      people[name].append(msg)\n",
        "min_msgs = np.min([len(msgs) for person, msgs in people.items()])\n",
        "for person, msgs in people.items():\n",
        "  while len(msgs) > min_msgs:\n",
        "    msgs.pop()\n",
        "df = pd.DataFrame(data=people)\n",
        "df.head()"
      ],
      "execution_count": 18,
      "outputs": [
        {
          "output_type": "execute_result",
          "data": {
            "text/html": [
              "<div>\n",
              "<style scoped>\n",
              "    .dataframe tbody tr th:only-of-type {\n",
              "        vertical-align: middle;\n",
              "    }\n",
              "\n",
              "    .dataframe tbody tr th {\n",
              "        vertical-align: top;\n",
              "    }\n",
              "\n",
              "    .dataframe thead th {\n",
              "        text-align: right;\n",
              "    }\n",
              "</style>\n",
              "<table border=\"1\" class=\"dataframe\">\n",
              "  <thead>\n",
              "    <tr style=\"text-align: right;\">\n",
              "      <th></th>\n",
              "      <th>Yaniv_Ofer</th>\n",
              "      <th>Gaby_Naiman</th>\n",
              "      <th>Tomer_Schmidt_Barad</th>\n",
              "      <th>Yaniv_Cohen</th>\n",
              "      <th>Dvir_Cohen</th>\n",
              "      <th>חברי_ילדות</th>\n",
              "    </tr>\n",
              "  </thead>\n",
              "  <tbody>\n",
              "    <tr>\n",
              "      <th>0</th>\n",
              "      <td>גבי,</td>\n",
              "      <td>בודק..</td>\n",
              "      <td>גבי, אתה יותר איטי מויסטה</td>\n",
              "      <td>הוא ישן</td>\n",
              "      <td>ארון כהן לאייפונים</td>\n",
              "      <td>‎Messages and calls are end-to-end encrypted....</td>\n",
              "    </tr>\n",
              "  </tbody>\n",
              "</table>\n",
              "</div>"
            ],
            "text/plain": [
              "  Yaniv_Ofer  ...                                         חברי_ילדות\n",
              "0       גבי,  ...   ‎Messages and calls are end-to-end encrypted....\n",
              "\n",
              "[1 rows x 6 columns]"
            ]
          },
          "metadata": {
            "tags": []
          },
          "execution_count": 18
        }
      ]
    },
    {
      "cell_type": "code",
      "metadata": {
        "id": "1fuuM1ag-v5o"
      },
      "source": [
        "def get_positivity(string):\n",
        "  states = sentiment_analysis(string)[0]\n",
        "  for state in states:\n",
        "    if state['label'] == 'positive':\n",
        "      break\n",
        "  return state['score']"
      ],
      "execution_count": 19,
      "outputs": []
    },
    {
      "cell_type": "code",
      "metadata": {
        "id": "pyT614O50NI4"
      },
      "source": [
        "def get_negativity(string):\n",
        "  states = sentiment_analysis(string)[0]\n",
        "  for state in states:\n",
        "    if state['label'] == 'negative':\n",
        "      break\n",
        "  return state['score']"
      ],
      "execution_count": 20,
      "outputs": []
    },
    {
      "cell_type": "code",
      "metadata": {
        "id": "iI1m7F140NUS"
      },
      "source": [
        "def get_neutrality(string):\n",
        "  states = sentiment_analysis(string)[0]\n",
        "  for state in states:\n",
        "    if state['label'] == 'natural':\n",
        "      break\n",
        "  return state['score']"
      ],
      "execution_count": 21,
      "outputs": []
    },
    {
      "cell_type": "code",
      "metadata": {
        "id": "JHqFABwEZWfs",
        "colab": {
          "base_uri": "https://localhost:8080/"
        },
        "outputId": "67cf61c1-67a3-4dda-ae78-7dc4e7cc9992"
      },
      "source": [
        "tokenizer = AutoTokenizer.from_pretrained(\"avichr/heBERT_sentiment_analysis\")\n",
        "model = AutoModel.from_pretrained(\"avichr/heBERT_sentiment_analysis\")\n",
        "\n",
        "sentiment_analysis = pipeline(\n",
        "    \"sentiment-analysis\",\n",
        "    model=\"avichr/heBERT_sentiment_analysis\",\n",
        "    tokenizer=\"avichr/heBERT_sentiment_analysis\",\n",
        "    return_all_scores = True\n",
        ")"
      ],
      "execution_count": 22,
      "outputs": [
        {
          "output_type": "stream",
          "text": [
            "Some weights of the model checkpoint at avichr/heBERT_sentiment_analysis were not used when initializing BertModel: ['classifier.weight', 'classifier.bias']\n",
            "- This IS expected if you are initializing BertModel from the checkpoint of a model trained on another task or with another architecture (e.g. initializing a BertForSequenceClassification model from a BertForPreTraining model).\n",
            "- This IS NOT expected if you are initializing BertModel from the checkpoint of a model that you expect to be exactly identical (initializing a BertForSequenceClassification model from a BertForSequenceClassification model).\n"
          ],
          "name": "stderr"
        }
      ]
    },
    {
      "cell_type": "code",
      "metadata": {
        "id": "Pmz8Jk9FL1OT"
      },
      "source": [
        "for person in df.columns:\n",
        "  df[f'{person}_positivity_index'] = df[person].apply(lambda r: get_positivity(r))\n",
        "  df[f'{person}_negativity_index'] = df[person].apply(lambda r: get_negativity(r))\n",
        "  df[f'{person}_neutrality_index'] = df[person].apply(lambda r: get_neutrality(r))"
      ],
      "execution_count": 23,
      "outputs": []
    },
    {
      "cell_type": "code",
      "metadata": {
        "id": "_exdsd5KO6c5"
      },
      "source": [
        "for person in people.keys():\n",
        "  df[f'{person}_positivity_score'] = ((df[f'{person}_positivity_index'] + \n",
        "                                         df[f'{person}_negativity_index']) / 2 + \n",
        "                                        df[f'{person}_neutrality_index']) / 2"
      ],
      "execution_count": 24,
      "outputs": []
    },
    {
      "cell_type": "code",
      "metadata": {
        "id": "ejswgK6pTPIE",
        "colab": {
          "base_uri": "https://localhost:8080/"
        },
        "outputId": "31e1aef0-a66d-4045-c71c-b07641fd677c"
      },
      "source": [
        "people_scores = []\n",
        "for name in people.keys():\n",
        "  score = round(df[f'{name}_positivity_score'].mean(), 5)\n",
        "  people_scores.append((name, score))\n",
        "people_scores.sort(reverse=True, key=lambda x:x[1])\n",
        "for person in people_scores:\n",
        "  print(f'{person[0]} positivity score: {person[1]}')"
      ],
      "execution_count": 25,
      "outputs": [
        {
          "output_type": "stream",
          "text": [
            "חברי_ילדות positivity score: 0.49248\n",
            "Dvir_Cohen positivity score: 0.48377\n",
            "Gaby_Naiman positivity score: 0.44758\n",
            "Yaniv_Cohen positivity score: 0.25098\n",
            "Yaniv_Ofer positivity score: 0.25011\n",
            "Tomer_Schmidt_Barad positivity score: 0.25003\n"
          ],
          "name": "stdout"
        }
      ]
    }
  ]
}